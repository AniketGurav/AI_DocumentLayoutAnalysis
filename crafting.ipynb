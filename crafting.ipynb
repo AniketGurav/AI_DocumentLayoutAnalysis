{
  "nbformat": 4,
  "nbformat_minor": 0,
  "metadata": {
    "colab": {
      "name": "crafting",
      "provenance": [],
      "collapsed_sections": [],
      "toc_visible": true,
      "mount_file_id": "1M8S5IC1zGKoCvrvZUYmB0oppPWP6OEMb",
      "authorship_tag": "ABX9TyMtKpeBMSM5QkeANVMPkGNV",
      "include_colab_link": true
    },
    "kernelspec": {
      "name": "python3",
      "display_name": "Python 3"
    }
  },
  "cells": [
    {
      "cell_type": "markdown",
      "metadata": {
        "id": "view-in-github",
        "colab_type": "text"
      },
      "source": [
        "<a href=\"https://colab.research.google.com/github/AniketGurav/AI_DocumentLayoutAnalysis/blob/master/crafting.ipynb\" target=\"_parent\"><img src=\"https://colab.research.google.com/assets/colab-badge.svg\" alt=\"Open In Colab\"/></a>"
      ]
    },
    {
      "cell_type": "code",
      "metadata": {
        "id": "X0vi_s_QCJ07",
        "colab_type": "code",
        "outputId": "1365ced1-0790-4054-b645-6acf647ccd4e",
        "colab": {
          "base_uri": "https://localhost:8080/",
          "height": 462
        }
      },
      "source": [
        "!pip install craft-text-detection"
      ],
      "execution_count": 0,
      "outputs": [
        {
          "output_type": "stream",
          "text": [
            "Requirement already satisfied: craft-text-detection in /usr/local/lib/python3.6/dist-packages (0.0.2)\n",
            "Requirement already satisfied: torch==0.4.1 in /usr/local/lib/python3.6/dist-packages (from craft-text-detection) (0.4.1)\n",
            "Requirement already satisfied: scikit-image==0.14.2 in /usr/local/lib/python3.6/dist-packages (from craft-text-detection) (0.14.2)\n",
            "Requirement already satisfied: torchvision==0.2.1 in /usr/local/lib/python3.6/dist-packages (from craft-text-detection) (0.2.1)\n",
            "Requirement already satisfied: pillow==6.2.0 in /usr/local/lib/python3.6/dist-packages (from craft-text-detection) (6.2.0)\n",
            "Requirement already satisfied: requests==2.22.0 in /usr/local/lib/python3.6/dist-packages (from craft-text-detection) (2.22.0)\n",
            "Requirement already satisfied: scipy==1.1.0 in /usr/local/lib/python3.6/dist-packages (from craft-text-detection) (1.1.0)\n",
            "Requirement already satisfied: opencv-python==3.4.2.17 in /usr/local/lib/python3.6/dist-packages (from craft-text-detection) (3.4.2.17)\n",
            "Requirement already satisfied: PyWavelets>=0.4.0 in /usr/local/lib/python3.6/dist-packages (from scikit-image==0.14.2->craft-text-detection) (1.1.1)\n",
            "Requirement already satisfied: dask[array]>=1.0.0 in /usr/local/lib/python3.6/dist-packages (from scikit-image==0.14.2->craft-text-detection) (2.12.0)\n",
            "Requirement already satisfied: networkx>=1.8 in /usr/local/lib/python3.6/dist-packages (from scikit-image==0.14.2->craft-text-detection) (2.4)\n",
            "Requirement already satisfied: cloudpickle>=0.2.1 in /usr/local/lib/python3.6/dist-packages (from scikit-image==0.14.2->craft-text-detection) (1.3.0)\n",
            "Requirement already satisfied: six>=1.10.0 in /usr/local/lib/python3.6/dist-packages (from scikit-image==0.14.2->craft-text-detection) (1.12.0)\n",
            "Requirement already satisfied: matplotlib>=2.0.0 in /usr/local/lib/python3.6/dist-packages (from scikit-image==0.14.2->craft-text-detection) (3.2.1)\n",
            "Requirement already satisfied: numpy in /usr/local/lib/python3.6/dist-packages (from torchvision==0.2.1->craft-text-detection) (1.18.4)\n",
            "Requirement already satisfied: chardet<3.1.0,>=3.0.2 in /usr/local/lib/python3.6/dist-packages (from requests==2.22.0->craft-text-detection) (3.0.4)\n",
            "Requirement already satisfied: idna<2.9,>=2.5 in /usr/local/lib/python3.6/dist-packages (from requests==2.22.0->craft-text-detection) (2.8)\n",
            "Requirement already satisfied: certifi>=2017.4.17 in /usr/local/lib/python3.6/dist-packages (from requests==2.22.0->craft-text-detection) (2020.4.5.1)\n",
            "Requirement already satisfied: urllib3!=1.25.0,!=1.25.1,<1.26,>=1.21.1 in /usr/local/lib/python3.6/dist-packages (from requests==2.22.0->craft-text-detection) (1.24.3)\n",
            "Requirement already satisfied: toolz>=0.7.3; extra == \"array\" in /usr/local/lib/python3.6/dist-packages (from dask[array]>=1.0.0->scikit-image==0.14.2->craft-text-detection) (0.10.0)\n",
            "Requirement already satisfied: decorator>=4.3.0 in /usr/local/lib/python3.6/dist-packages (from networkx>=1.8->scikit-image==0.14.2->craft-text-detection) (4.4.2)\n",
            "Requirement already satisfied: python-dateutil>=2.1 in /usr/local/lib/python3.6/dist-packages (from matplotlib>=2.0.0->scikit-image==0.14.2->craft-text-detection) (2.8.1)\n",
            "Requirement already satisfied: kiwisolver>=1.0.1 in /usr/local/lib/python3.6/dist-packages (from matplotlib>=2.0.0->scikit-image==0.14.2->craft-text-detection) (1.2.0)\n",
            "Requirement already satisfied: pyparsing!=2.0.4,!=2.1.2,!=2.1.6,>=2.0.1 in /usr/local/lib/python3.6/dist-packages (from matplotlib>=2.0.0->scikit-image==0.14.2->craft-text-detection) (2.4.7)\n",
            "Requirement already satisfied: cycler>=0.10 in /usr/local/lib/python3.6/dist-packages (from matplotlib>=2.0.0->scikit-image==0.14.2->craft-text-detection) (0.10.0)\n"
          ],
          "name": "stdout"
        }
      ]
    },
    {
      "cell_type": "code",
      "metadata": {
        "id": "oUM7Xs2rCrPi",
        "colab_type": "code",
        "outputId": "30533561-1851-4f84-fde8-e24a266a91e0",
        "colab": {
          "base_uri": "https://localhost:8080/",
          "height": 204
        }
      },
      "source": [
        "!wget https://www.google.co.in/url?sa=i&url=http%3A%2F%2Fwww.thesmokinggun.com%2Ffile%2Fbilly-bob-angelina-perfect-together&psig=AOvVaw3yOUKHMfOyHMun-CnAj_dr&ust=1590667957624000&source=images&cd=vfe&ved=0CAIQjRxqFwoTCJjb0PuB1OkCFQAAAAAdAAAAABAS"
      ],
      "execution_count": 0,
      "outputs": [
        {
          "output_type": "stream",
          "text": [
            "--2020-05-27 12:13:39--  https://www.google.co.in/url?sa=i\n",
            "Resolving www.google.co.in (www.google.co.in)... 108.177.126.94, 2a00:1450:4013:c01::5e\n",
            "Connecting to www.google.co.in (www.google.co.in)|108.177.126.94|:443... connected.\n",
            "HTTP request sent, awaiting response... 200 OK\n",
            "Length: unspecified [text/html]\n",
            "Saving to: ‘url?sa=i’\n",
            "\n",
            "\rurl?sa=i                [<=>                 ]       0  --.-KB/s               \rurl?sa=i                [ <=>                ]   1.37K  --.-KB/s    in 0s      \n",
            "\n",
            "2020-05-27 12:13:39 (22.0 MB/s) - ‘url?sa=i’ saved [1401]\n",
            "\n"
          ],
          "name": "stdout"
        }
      ]
    },
    {
      "cell_type": "code",
      "metadata": {
        "id": "5X8PptqHDR6T",
        "colab_type": "code",
        "colab": {}
      },
      "source": [
        "import craft\n",
        "import cv2"
      ],
      "execution_count": 0,
      "outputs": []
    },
    {
      "cell_type": "code",
      "metadata": {
        "id": "39TRILdyD862",
        "colab_type": "code",
        "outputId": "b0ceec3b-c1f0-4162-b11f-e95aec72abe0",
        "colab": {
          "base_uri": "https://localhost:8080/",
          "height": 306
        }
      },
      "source": [
        "#% cd data/\n",
        "%ls\n",
        "!wget --output-document=1.png https://www.google.co.in/url?sa=i&url=http%3A%2F%2Fwww.thesmokinggun.com%2Ffile%2Fbilly-bob-angelina-perfect-together&psig=AOvVaw3yOUKHMfOyHMun-CnAj_dr&ust=1590667957624000&source=images&cd=vfe&ved=0CAIQjRxqFwoTCJjb0PuB1OkCFQAAAAAdAAAAABAS\n",
        "%ls"
      ],
      "execution_count": 0,
      "outputs": [
        {
          "output_type": "stream",
          "text": [
            "\u001b[0m\u001b[01;34mbuild\u001b[0m/             \u001b[01;34mconfigs\u001b[0m/   download_weights.sh  README.md  \u001b[01;34mtools\u001b[0m/\n",
            "\u001b[01;34mcharnet\u001b[0m/           \u001b[01;34mdata\u001b[0m/      __init__.py          \u001b[01;34mresult\u001b[0m/    \u001b[01;34mweights\u001b[0m/\n",
            "\u001b[01;34mcharnet.egg-info\u001b[0m/  \u001b[01;34mdatasets\u001b[0m/  LICENSE              setup.py\n",
            "--2020-05-27 14:31:13--  https://www.google.co.in/url?sa=i\n",
            "Resolving www.google.co.in (www.google.co.in)... 108.177.126.94, 2a00:1450:4013:c01::5e\n",
            "Connecting to www.google.co.in (www.google.co.in)|108.177.126.94|:443... connected.\n",
            "HTTP request sent, awaiting response... 200 OK\n",
            "Length: unspecified [text/html]\n",
            "Saving to: ‘1.png’\n",
            "\n",
            "1.png                   [ <=>                ]   1.37K  --.-KB/s    in 0s      \n",
            "\n",
            "2020-05-27 14:31:13 (21.8 MB/s) - ‘1.png’ saved [1401]\n",
            "\n",
            "1.png     \u001b[0m\u001b[01;34mcharnet.egg-info\u001b[0m/  \u001b[01;34mdatasets\u001b[0m/            LICENSE    setup.py\n",
            "\u001b[01;34mbuild\u001b[0m/    \u001b[01;34mconfigs\u001b[0m/           download_weights.sh  README.md  \u001b[01;34mtools\u001b[0m/\n",
            "\u001b[01;34mcharnet\u001b[0m/  \u001b[01;34mdata\u001b[0m/              __init__.py          \u001b[01;34mresult\u001b[0m/    \u001b[01;34mweights\u001b[0m/\n"
          ],
          "name": "stdout"
        }
      ]
    },
    {
      "cell_type": "code",
      "metadata": {
        "id": "ApplaX9iGPVh",
        "colab_type": "code",
        "outputId": "d13be34d-c555-4a33-97bd-88e9dc198f5b",
        "colab": {
          "base_uri": "https://localhost:8080/",
          "height": 265
        }
      },
      "source": [
        "import craft\n",
        "import cv2\n",
        "import os\n",
        "cwd=os.getcwd()+\"//\"\n",
        "print(\"\\n\\t cwd=\",cwd)\n",
        "print(\"\\n\\t is file=\",os.path.isfile(cwd+'//1.png'))\n",
        "img = cv2.imread(cwd+'//b.jpg')\n",
        "print(img.shape)"
      ],
      "execution_count": 0,
      "outputs": [
        {
          "output_type": "stream",
          "text": [
            "\n",
            "\t cwd= /content/research-charnet//\n",
            "\n",
            "\t is file= True\n"
          ],
          "name": "stdout"
        },
        {
          "output_type": "error",
          "ename": "AttributeError",
          "evalue": "ignored",
          "traceback": [
            "\u001b[0;31m---------------------------------------------------------------------------\u001b[0m",
            "\u001b[0;31mAttributeError\u001b[0m                            Traceback (most recent call last)",
            "\u001b[0;32m<ipython-input-81-377f6a539c2d>\u001b[0m in \u001b[0;36m<module>\u001b[0;34m()\u001b[0m\n\u001b[1;32m      6\u001b[0m \u001b[0mprint\u001b[0m\u001b[0;34m(\u001b[0m\u001b[0;34m\"\\n\\t is file=\"\u001b[0m\u001b[0;34m,\u001b[0m\u001b[0mos\u001b[0m\u001b[0;34m.\u001b[0m\u001b[0mpath\u001b[0m\u001b[0;34m.\u001b[0m\u001b[0misfile\u001b[0m\u001b[0;34m(\u001b[0m\u001b[0mcwd\u001b[0m\u001b[0;34m+\u001b[0m\u001b[0;34m'//1.png'\u001b[0m\u001b[0;34m)\u001b[0m\u001b[0;34m)\u001b[0m\u001b[0;34m\u001b[0m\u001b[0;34m\u001b[0m\u001b[0m\n\u001b[1;32m      7\u001b[0m \u001b[0mimg\u001b[0m \u001b[0;34m=\u001b[0m \u001b[0mcv2\u001b[0m\u001b[0;34m.\u001b[0m\u001b[0mimread\u001b[0m\u001b[0;34m(\u001b[0m\u001b[0mcwd\u001b[0m\u001b[0;34m+\u001b[0m\u001b[0;34m'//b.jpg'\u001b[0m\u001b[0;34m)\u001b[0m\u001b[0;34m\u001b[0m\u001b[0;34m\u001b[0m\u001b[0m\n\u001b[0;32m----> 8\u001b[0;31m \u001b[0mprint\u001b[0m\u001b[0;34m(\u001b[0m\u001b[0mimg\u001b[0m\u001b[0;34m.\u001b[0m\u001b[0mshape\u001b[0m\u001b[0;34m)\u001b[0m\u001b[0;34m\u001b[0m\u001b[0;34m\u001b[0m\u001b[0m\n\u001b[0m",
            "\u001b[0;31mAttributeError\u001b[0m: 'NoneType' object has no attribute 'shape'"
          ]
        }
      ]
    },
    {
      "cell_type": "code",
      "metadata": {
        "id": "DOyFcjtZHnv2",
        "colab_type": "code",
        "outputId": "4e3bf616-478b-4c05-967c-c6d3277cd5cf",
        "colab": {
          "base_uri": "https://localhost:8080/",
          "height": 361
        }
      },
      "source": [
        "import craft\n",
        "import cv2\n",
        "import os\n",
        "cwd=os.getcwd()+\"//\"\n",
        "print(\"\\n\\t cwd=\",cwd)\n",
        "print(\"\\n\\t is file=\",os.path.isfile(cwd+'//1.png'))\n",
        "img = cv2.imread(cwd+'//images (1).jpg')\n",
        "print(img.shape)\n",
        "\n",
        "\n",
        "# run the detector\n",
        "from google.colab.patches import cv2_imshow\n",
        "bboxes, polys, heatmap = craft.detect_text(img)\n",
        "\n",
        "# view the image with bounding boxes\n",
        "img_boxed = craft.show_bounding_boxes(img, bboxes)\n",
        "cv2_imshow( img_boxed)\n",
        "\n",
        "# view detection heatmap\n",
        "cv2_imshow(heatmap)"
      ],
      "execution_count": 0,
      "outputs": [
        {
          "output_type": "stream",
          "text": [
            "\n",
            "\t cwd= /content/data//\n",
            "\n",
            "\t is file= True\n",
            "(147, 343, 3)\n"
          ],
          "name": "stdout"
        },
        {
          "output_type": "display_data",
          "data": {
            "image/png": "[encoded data removed]",
            "text/plain": [
              "<PIL.Image.Image image mode=RGB size=343x147 at 0x7F6EB6E4E978>"
            ]
          },
          "metadata": {
            "tags": []
          }
        },
        {
          "output_type": "display_data",
          "data": {
            "image/png": "[encoded data removed]",
            "text/plain": [
              "<PIL.Image.Image image mode=RGB size=544x112 at 0x7F6EB6E4EBA8>"
            ]
          },
          "metadata": {
            "tags": []
          }
        }
      ]
    },
    {
      "cell_type": "code",
      "metadata": {
        "id": "zsI4ey2ZMPNp",
        "colab_type": "code",
        "outputId": "b72f5101-cd84-47e2-a1ae-58f5481573ac",
        "colab": {
          "base_uri": "https://localhost:8080/",
          "height": 34
        }
      },
      "source": [
        "%cd .."
      ],
      "execution_count": 0,
      "outputs": [
        {
          "output_type": "stream",
          "text": [
            "/content\n"
          ],
          "name": "stdout"
        }
      ]
    },
    {
      "cell_type": "code",
      "metadata": {
        "id": "Wlz8GZRAMnPc",
        "colab_type": "code",
        "outputId": "89910295-ed73-421a-fc18-39012a07ae50",
        "colab": {
          "base_uri": "https://localhost:8080/",
          "height": 119
        }
      },
      "source": [
        "# charnet ocr does not work but works on desktop\n",
        "\n",
        "! git clone https://github.com/MalongTech/research-charnet.git"
      ],
      "execution_count": 0,
      "outputs": [
        {
          "output_type": "stream",
          "text": [
            "Cloning into 'research-charnet'...\n",
            "remote: Enumerating objects: 49, done.\u001b[K\n",
            "remote: Counting objects: 100% (49/49), done.\u001b[K\n",
            "remote: Compressing objects: 100% (43/43), done.\u001b[K\n",
            "remote: Total 49 (delta 11), reused 34 (delta 1), pack-reused 0\u001b[K\n",
            "Unpacking objects: 100% (49/49), done.\n"
          ],
          "name": "stdout"
        }
      ]
    },
    {
      "cell_type": "code",
      "metadata": {
        "id": "YE9sLgi1GddG",
        "colab_type": "code",
        "outputId": "6c8ad722-9a20-486d-d603-6cbb7f8cd267",
        "colab": {
          "base_uri": "https://localhost:8080/",
          "height": 51
        }
      },
      "source": [
        "%pwd\n",
        "!ls"
      ],
      "execution_count": 0,
      "outputs": [
        {
          "output_type": "stream",
          "text": [
            "charnet  data\t   download_weights.sh\tLICENSE    result    tools\n",
            "configs  datasets  __init__.py\t\tREADME.md  setup.py  weights\n"
          ],
          "name": "stdout"
        }
      ]
    },
    {
      "cell_type": "code",
      "metadata": {
        "id": "y_u5cYctM85G",
        "colab_type": "code",
        "outputId": "9716ffe2-bb9f-4d73-dfda-5963c2bb3a08",
        "colab": {
          "base_uri": "https://localhost:8080/",
          "height": 34
        }
      },
      "source": [
        "%cd /content/research-charnet"
      ],
      "execution_count": 0,
      "outputs": [
        {
          "output_type": "stream",
          "text": [
            "/content/research-charnet\n"
          ],
          "name": "stdout"
        }
      ]
    },
    {
      "cell_type": "code",
      "metadata": {
        "id": "-HjmzhDfNE0Y",
        "colab_type": "code",
        "outputId": "d2f9827b-24e9-4ed7-9234-28e9ee452b89",
        "colab": {
          "base_uri": "https://localhost:8080/",
          "height": 204
        }
      },
      "source": [
        "!bash download_weights.sh"
      ],
      "execution_count": 0,
      "outputs": [
        {
          "output_type": "stream",
          "text": [
            "--2020-05-27 12:56:39--  https://cloudstor.aarnet.edu.au/plus/s/c0PaY4pzPUhPmL9/download\n",
            "Resolving cloudstor.aarnet.edu.au (cloudstor.aarnet.edu.au)... 202.158.207.20\n",
            "Connecting to cloudstor.aarnet.edu.au (cloudstor.aarnet.edu.au)|202.158.207.20|:443... connected.\n",
            "HTTP request sent, awaiting response... 200 OK\n",
            "Length: 356919946 (340M) [application/octet-stream]\n",
            "Saving to: ‘weights/icdar2015_hourglass88.pth’\n",
            "\n",
            "weights/icdar2015_h 100%[===================>] 340.38M  10.9MB/s    in 34s     \n",
            "\n",
            "2020-05-27 12:57:15 (10.0 MB/s) - ‘weights/icdar2015_hourglass88.pth’ saved [356919946/356919946]\n",
            "\n"
          ],
          "name": "stdout"
        }
      ]
    },
    {
      "cell_type": "code",
      "metadata": {
        "id": "M8XAnpMmNe4B",
        "colab_type": "code",
        "colab": {}
      },
      "source": [
        "!mkdir result"
      ],
      "execution_count": 0,
      "outputs": []
    },
    {
      "cell_type": "code",
      "metadata": {
        "id": "YdxIJKtiOE3A",
        "colab_type": "code",
        "colab": {}
      },
      "source": [
        "#%cd ..\n",
        "%cp ./research-charnet//charnet//__init__.py ./research-charnet// "
      ],
      "execution_count": 0,
      "outputs": []
    },
    {
      "cell_type": "code",
      "metadata": {
        "id": "lQrhJJ5eNs-u",
        "colab_type": "code",
        "outputId": "b0db76d9-5963-45cc-f050-6c114c5901f4",
        "colab": {
          "base_uri": "https://localhost:8080/",
          "height": 561
        }
      },
      "source": [
        "!python .//tools/test_net.py configs/icdar2015_hourglass88.yaml \".//data//\" \".//result//\""
      ],
      "execution_count": 0,
      "outputs": [
        {
          "output_type": "stream",
          "text": [
            "CHAR_DICT_FILE: datasets/ICDAR2015/test/char_dict.txt\n",
            "CHAR_MIN_SCORE: 0.25\n",
            "CHAR_NMS_IOU_THRESH: 0.3\n",
            "CHAR_STRIDE: 4\n",
            "INPUT_SIZE: 2280\n",
            "MAGNITUDE_THRESH: 0.2\n",
            "NUM_CHAR_CLASSES: 68\n",
            "RESULTS_SEPARATOR: ,\n",
            "SIZE_DIVISIBILITY: 128\n",
            "WEIGHT: weights/icdar2015_hourglass88.pth\n",
            "WORD_DETECTOR_DILATION: 1\n",
            "WORD_LEXICON_PATH: datasets/ICDAR2015/test/GenericVocabulary.txt\n",
            "WORD_MIN_SCORE: 0.95\n",
            "WORD_NMS_IOU_THRESH: 0.15\n",
            "WORD_STRIDE: 4\n",
            "THCudaCheck FAIL file=/pytorch/aten/src/THC/THCGeneral.cpp line=74 error=38 : no CUDA-capable device is detected\n",
            "Traceback (most recent call last):\n",
            "  File \".//tools/test_net.py\", line 69, in <module>\n",
            "    charnet.cuda()\n",
            "  File \"/usr/local/lib/python3.6/dist-packages/torch/nn/modules/module.py\", line 258, in cuda\n",
            "    return self._apply(lambda t: t.cuda(device))\n",
            "  File \"/usr/local/lib/python3.6/dist-packages/torch/nn/modules/module.py\", line 185, in _apply\n",
            "    module._apply(fn)\n",
            "  File \"/usr/local/lib/python3.6/dist-packages/torch/nn/modules/module.py\", line 185, in _apply\n",
            "    module._apply(fn)\n",
            "  File \"/usr/local/lib/python3.6/dist-packages/torch/nn/modules/module.py\", line 185, in _apply\n",
            "    module._apply(fn)\n",
            "  File \"/usr/local/lib/python3.6/dist-packages/torch/nn/modules/module.py\", line 191, in _apply\n",
            "    param.data = fn(param.data)\n",
            "  File \"/usr/local/lib/python3.6/dist-packages/torch/nn/modules/module.py\", line 258, in <lambda>\n",
            "    return self._apply(lambda t: t.cuda(device))\n",
            "RuntimeError: cuda runtime error (38) : no CUDA-capable device is detected at /pytorch/aten/src/THC/THCGeneral.cpp:74\n"
          ],
          "name": "stdout"
        }
      ]
    },
    {
      "cell_type": "code",
      "metadata": {
        "id": "Ijl-PRKMPa3L",
        "colab_type": "code",
        "outputId": "0bed571b-5533-45af-e7ab-6836b57f9f29",
        "colab": {
          "base_uri": "https://localhost:8080/",
          "height": 357
        }
      },
      "source": [
        "\n",
        "!pip install torch torchvision\n",
        "!python setup.py build develop"
      ],
      "execution_count": 0,
      "outputs": [
        {
          "output_type": "stream",
          "text": [
            "Requirement already satisfied: torch in /usr/local/lib/python3.6/dist-packages (0.4.1)\n",
            "Requirement already satisfied: torchvision in /usr/local/lib/python3.6/dist-packages (0.2.1)\n",
            "Requirement already satisfied: pillow>=4.1.1 in /usr/local/lib/python3.6/dist-packages (from torchvision) (6.2.0)\n",
            "Requirement already satisfied: numpy in /usr/local/lib/python3.6/dist-packages (from torchvision) (1.18.4)\n",
            "Requirement already satisfied: six in /usr/local/lib/python3.6/dist-packages (from torchvision) (1.12.0)\n",
            "running build\n",
            "running build_py\n",
            "running egg_info\n",
            "writing charnet.egg-info/PKG-INFO\n",
            "writing dependency_links to charnet.egg-info/dependency_links.txt\n",
            "writing top-level names to charnet.egg-info/top_level.txt\n",
            "writing manifest file 'charnet.egg-info/SOURCES.txt'\n",
            "running develop\n",
            "running build_ext\n",
            "Creating /usr/local/lib/python3.6/dist-packages/charnet.egg-link (link to .)\n",
            "charnet 0.0.1 is already the active version in easy-install.pth\n",
            "\n",
            "Installed /content/research-charnet\n",
            "Processing dependencies for charnet==0.0.1\n",
            "Finished processing dependencies for charnet==0.0.1\n"
          ],
          "name": "stdout"
        }
      ]
    },
    {
      "cell_type": "code",
      "metadata": {
        "id": "kIEb-a2TQQUc",
        "colab_type": "code",
        "outputId": "ccad5ded-e3aa-4f5a-da8a-41c866c3e129",
        "colab": {
          "base_uri": "https://localhost:8080/",
          "height": 68
        }
      },
      "source": [
        "!pip3 install pyclipper\n",
        "!pip3 install yacs"
      ],
      "execution_count": 0,
      "outputs": [
        {
          "output_type": "stream",
          "text": [
            "Requirement already satisfied: pyclipper in /usr/local/lib/python3.6/dist-packages (1.1.0.post3)\n",
            "Requirement already satisfied: yacs in /usr/local/lib/python3.6/dist-packages (0.1.7)\n",
            "Requirement already satisfied: PyYAML in /usr/local/lib/python3.6/dist-packages (from yacs) (3.13)\n"
          ],
          "name": "stdout"
        }
      ]
    },
    {
      "cell_type": "code",
      "metadata": {
        "id": "77nMf2wNjpnc",
        "colab_type": "code",
        "outputId": "1eb229f2-2973-40e4-a3d3-7aeebe033463",
        "colab": {
          "base_uri": "https://localhost:8080/",
          "height": 872
        }
      },
      "source": [
        "# keras ocr\n",
        "!pip install keras-ocr"
      ],
      "execution_count": 0,
      "outputs": [
        {
          "output_type": "stream",
          "text": [
            "Collecting keras-ocr\n",
            "\u001b[?25l  Downloading https://files.pythonhosted.org/packages/4f/5a/ec31542d2b1c8ee9856266f8a91fa5878cd5963b8491075986f87d9572b0/keras-ocr-0.8.3.tar.gz (166kB)\n",
            "\u001b[K     |████████████████████████████████| 174kB 7.9MB/s \n",
            "\u001b[?25hCollecting essential_generators\n",
            "\u001b[?25l  Downloading https://files.pythonhosted.org/packages/59/b1/979b823497488e5f13c9070fcd6a2e24f6d9c6fd5398e0fbeccc8158bd3b/essential_generators-0.9.2-py3-none-any.whl (9.5MB)\n",
            "\u001b[K     |████████████████████████████████| 9.5MB 17.5MB/s \n",
            "\u001b[?25hRequirement already satisfied: tqdm in /usr/local/lib/python3.6/dist-packages (from keras-ocr) (4.41.1)\n",
            "Requirement already satisfied: imgaug in /usr/local/lib/python3.6/dist-packages (from keras-ocr) (0.2.9)\n",
            "Collecting validators\n",
            "  Downloading https://files.pythonhosted.org/packages/c4/4a/4f9c892f9a9f08ee5f99c32bbd4297499099c2c5f7eff8c617a57d31a7d8/validators-0.15.0.tar.gz\n",
            "Collecting fonttools\n",
            "\u001b[?25l  Downloading https://files.pythonhosted.org/packages/27/5a/d57f779d7a9b9b202e29f37a3f35fe63d833b46df005deb5ef407ae0b247/fonttools-4.10.2-py3-none-any.whl (797kB)\n",
            "\u001b[K     |████████████████████████████████| 798kB 45.8MB/s \n",
            "\u001b[?25hRequirement already satisfied: editdistance in /usr/local/lib/python3.6/dist-packages (from keras-ocr) (0.5.3)\n",
            "Collecting pyclipper\n",
            "\u001b[?25l  Downloading https://files.pythonhosted.org/packages/e1/40/57a0d54a1c696d58253c88a95677e50ab2b305a15af0ac64b70db4320562/pyclipper-1.1.0.post3-cp36-cp36m-manylinux1_x86_64.whl (131kB)\n",
            "\u001b[K     |████████████████████████████████| 133kB 53.0MB/s \n",
            "\u001b[?25hRequirement already satisfied: shapely in /usr/local/lib/python3.6/dist-packages (from keras-ocr) (1.7.0)\n",
            "Collecting efficientnet==1.0.0\n",
            "  Downloading https://files.pythonhosted.org/packages/97/82/f3ae07316f0461417dc54affab6e86ab188a5a22f33176d35271628b96e0/efficientnet-1.0.0-py3-none-any.whl\n",
            "Requirement already satisfied: numpy>=1.15.0 in /usr/local/lib/python3.6/dist-packages (from imgaug->keras-ocr) (1.18.4)\n",
            "Requirement already satisfied: scikit-image>=0.11.0 in /usr/local/lib/python3.6/dist-packages (from imgaug->keras-ocr) (0.16.2)\n",
            "Requirement already satisfied: six in /usr/local/lib/python3.6/dist-packages (from imgaug->keras-ocr) (1.12.0)\n",
            "Requirement already satisfied: matplotlib in /usr/local/lib/python3.6/dist-packages (from imgaug->keras-ocr) (3.2.1)\n",
            "Requirement already satisfied: scipy in /usr/local/lib/python3.6/dist-packages (from imgaug->keras-ocr) (1.4.1)\n",
            "Requirement already satisfied: Pillow in /usr/local/lib/python3.6/dist-packages (from imgaug->keras-ocr) (7.0.0)\n",
            "Requirement already satisfied: imageio in /usr/local/lib/python3.6/dist-packages (from imgaug->keras-ocr) (2.4.1)\n",
            "Requirement already satisfied: opencv-python in /usr/local/lib/python3.6/dist-packages (from imgaug->keras-ocr) (4.1.2.30)\n",
            "Requirement already satisfied: decorator>=3.4.0 in /usr/local/lib/python3.6/dist-packages (from validators->keras-ocr) (4.4.2)\n",
            "Requirement already satisfied: keras-applications<=1.0.8,>=1.0.7 in /usr/local/lib/python3.6/dist-packages (from efficientnet==1.0.0->keras-ocr) (1.0.8)\n",
            "Requirement already satisfied: networkx>=2.0 in /usr/local/lib/python3.6/dist-packages (from scikit-image>=0.11.0->imgaug->keras-ocr) (2.4)\n",
            "Requirement already satisfied: PyWavelets>=0.4.0 in /usr/local/lib/python3.6/dist-packages (from scikit-image>=0.11.0->imgaug->keras-ocr) (1.1.1)\n",
            "Requirement already satisfied: python-dateutil>=2.1 in /usr/local/lib/python3.6/dist-packages (from matplotlib->imgaug->keras-ocr) (2.8.1)\n",
            "Requirement already satisfied: cycler>=0.10 in /usr/local/lib/python3.6/dist-packages (from matplotlib->imgaug->keras-ocr) (0.10.0)\n",
            "Requirement already satisfied: kiwisolver>=1.0.1 in /usr/local/lib/python3.6/dist-packages (from matplotlib->imgaug->keras-ocr) (1.2.0)\n",
            "Requirement already satisfied: pyparsing!=2.0.4,!=2.1.2,!=2.1.6,>=2.0.1 in /usr/local/lib/python3.6/dist-packages (from matplotlib->imgaug->keras-ocr) (2.4.7)\n",
            "Requirement already satisfied: h5py in /usr/local/lib/python3.6/dist-packages (from keras-applications<=1.0.8,>=1.0.7->efficientnet==1.0.0->keras-ocr) (2.10.0)\n",
            "Building wheels for collected packages: keras-ocr, validators\n",
            "  Building wheel for keras-ocr (setup.py) ... \u001b[?25l\u001b[?25hdone\n",
            "  Created wheel for keras-ocr: filename=keras_ocr-0.8.3-cp36-none-any.whl size=148551 sha256=8924d62bdcb56f35d0741cffb82cd115b34d3b5911955aad4feb202ddc40eb8b\n",
            "  Stored in directory: /root/.cache/pip/wheels/d2/da/6f/1752a00cfc486acbf010dad62ae45cb7013cf271bfd62635f5\n",
            "  Building wheel for validators (setup.py) ... \u001b[?25l\u001b[?25hdone\n",
            "  Created wheel for validators: filename=validators-0.15.0-cp36-none-any.whl size=18371 sha256=b25e30d296b6ba70aa9a5a0a56357affcc7fa3671e1f8f0d4debf1ec02dd7ade\n",
            "  Stored in directory: /root/.cache/pip/wheels/56/48/64/66c29f8eaf756b780549db047057e1563dfd2d2ce8e3d316c1\n",
            "Successfully built keras-ocr validators\n",
            "Installing collected packages: essential-generators, validators, fonttools, pyclipper, efficientnet, keras-ocr\n",
            "Successfully installed efficientnet-1.0.0 essential-generators-0.9.2 fonttools-4.10.2 keras-ocr-0.8.3 pyclipper-1.1.0.post3 validators-0.15.0\n"
          ],
          "name": "stdout"
        }
      ]
    },
    {
      "cell_type": "code",
      "metadata": {
        "id": "Pp_eXulcqafs",
        "colab_type": "code",
        "colab": {}
      },
      "source": [
        "!mkdir test"
      ],
      "execution_count": 0,
      "outputs": []
    },
    {
      "cell_type": "code",
      "metadata": {
        "id": "ltOcyZ_equt8",
        "colab_type": "code",
        "outputId": "e199239f-032b-4392-9ee7-2f7ae72c4ca7",
        "colab": {
          "base_uri": "https://localhost:8080/",
          "height": 212
        }
      },
      "source": [
        "!wget https://guillaumejaume.github.io/FUNSD/dataset.zip"
      ],
      "execution_count": 0,
      "outputs": [
        {
          "output_type": "stream",
          "text": [
            "--2020-05-28 05:05:10--  https://guillaumejaume.github.io/FUNSD/dataset.zip\n",
            "Resolving guillaumejaume.github.io (guillaumejaume.github.io)... 185.199.109.153, 185.199.108.153, 185.199.111.153, ...\n",
            "Connecting to guillaumejaume.github.io (guillaumejaume.github.io)|185.199.109.153|:443... connected.\n",
            "HTTP request sent, awaiting response... 200 OK\n",
            "Length: 16838830 (16M) [application/zip]\n",
            "Saving to: ‘dataset.zip’\n",
            "\n",
            "dataset.zip         100%[===================>]  16.06M  81.5MB/s    in 0.2s    \n",
            "\n",
            "2020-05-28 05:05:11 (81.5 MB/s) - ‘dataset.zip’ saved [16838830/16838830]\n",
            "\n"
          ],
          "name": "stdout"
        }
      ]
    },
    {
      "cell_type": "code",
      "metadata": {
        "id": "H28pGAWmr7bp",
        "colab_type": "code",
        "outputId": "e9583efb-6041-40d9-e5af-8c0c1e5fe01c",
        "colab": {
          "base_uri": "https://localhost:8080/",
          "height": 34
        }
      },
      "source": [
        "%cd test/"
      ],
      "execution_count": 0,
      "outputs": [
        {
          "output_type": "stream",
          "text": [
            "/content/test\n"
          ],
          "name": "stdout"
        }
      ]
    },
    {
      "cell_type": "code",
      "metadata": {
        "id": "U0VXSTd2q0Ac",
        "colab_type": "code",
        "outputId": "246fc6d1-464c-48f8-f3c5-ab98039a27ca",
        "colab": {
          "base_uri": "https://localhost:8080/",
          "height": 52
        }
      },
      "source": [
        "!ls\n",
        "#!unzip ./ .//dataset.zip\n",
        "\n",
        "import zipfile\n",
        "path_to_zip_file=\".//dataset.zip\"\n",
        "directory_to_extract_to=\".//\"\n",
        "\n",
        "with zipfile.ZipFile(path_to_zip_file, 'r') as zip_ref:\n",
        "    zip_ref.extractall(directory_to_extract_to)\n",
        "!ls"
      ],
      "execution_count": 0,
      "outputs": [
        {
          "output_type": "stream",
          "text": [
            "dataset.zip\n",
            "dataset  dataset.zip  __MACOSX\n"
          ],
          "name": "stdout"
        }
      ]
    },
    {
      "cell_type": "code",
      "metadata": {
        "id": "0UQjUKBys26j",
        "colab_type": "code",
        "outputId": "4ce06780-7cb3-47bc-ede6-7b77e126aed3",
        "colab": {
          "base_uri": "https://localhost:8080/",
          "height": 34
        }
      },
      "source": [
        "!ls dataset|wc"
      ],
      "execution_count": 0,
      "outputs": [
        {
          "output_type": "stream",
          "text": [
            "      2       2      27\n"
          ],
          "name": "stdout"
        }
      ]
    },
    {
      "cell_type": "markdown",
      "metadata": {
        "id": "FcsbPFYsDr7Y",
        "colab_type": "text"
      },
      "source": [
        "# New Section"
      ]
    },
    {
      "cell_type": "code",
      "metadata": {
        "id": "kAFjVIv-jMiI",
        "colab_type": "code",
        "outputId": "f41308aa-2fbc-43e4-e09a-20117023f151",
        "colab": {
          "base_uri": "https://localhost:8080/",
          "height": 458
        }
      },
      "source": [
        "import matplotlib.pyplot as plt\n",
        "import keras_ocr\n",
        "import itertools\n",
        "import cv2\n",
        "\n",
        "# keras-ocr will automatically download pretrained\n",
        "# weights for the detector and recognizer.\n",
        "pipeline = keras_ocr.pipeline.Pipeline()\n",
        "\n",
        "# Get a set of three example images\n",
        "\n",
        "dirPath=\"/content//image//\"\n",
        "\n",
        "import glob\n",
        "\n",
        "fullPath=glob.glob(dirPath+\"*.png\")+glob.glob(dirPath+\"*.jpg\")\n",
        "\n",
        "images = [\n",
        "    keras_ocr.tools.read(url) for url in fullPath \n",
        "]\n",
        "\n",
        "\n",
        "#print(\"\\n\\t shape=\",images[0].shape)\n",
        "\n",
        "print(\"\\n\\t fullPath=\",fullPath)\n",
        "imageName=fullPath[0]\n",
        "imageName=imageName.split(\"image/\")[1]\n",
        "\n",
        "print(\"\\n\\t imageName=\",imageName)\n",
        "\n",
        "# Each list of predictions in prediction_groups is a list of\n",
        "# (word, box) tuples.\n",
        "\n",
        "prediction_groups = pipeline.recognize(images)\n",
        "\n",
        "#print(\"\\n\\t prediction_groups=\",prediction_groups)\n",
        "\n",
        "# Plot the predictions\n",
        "\n",
        "import numpy as np\n",
        "\n",
        "def drawBoxes(image, boxes, color=(255, 0, 0), thickness=1, boxes_format='predictions'):#predictions boxes\n",
        "    \"\"\"Draw boxes onto an image.\n",
        "\n",
        "    Args:\n",
        "        image: The image on which to draw the boxes.\n",
        "        boxes: The boxes to draw.\n",
        "        color: The color for each box.\n",
        "        thickness: The thickness for each box.\n",
        "        boxes_format: The format used for providing the boxes. Options are\n",
        "            \"boxes\" which indicates an array with shape(N, 4, 2) where N is the\n",
        "            number of boxes and each box is a list of four points) as provided\n",
        "            by `keras_ocr.detection.Detector.detect`, \"lines\" (a list of\n",
        "            lines where each line itself is a list of (box, character) tuples) as\n",
        "            provided by `keras_ocr.data_generation.get_image_generator`,\n",
        "            or \"predictions\" where boxes is by itself a list of (word, box) tuples\n",
        "            as provided by `keras_ocr.pipeline.Pipeline.recognize` or\n",
        "            `keras_ocr.recognition.Recognizer.recognize_from_boxes`.\n",
        "    \"\"\"\n",
        "    if len(boxes) == 0:\n",
        "        return image\n",
        "    canvas = image.copy()\n",
        "    if boxes_format == 'lines':\n",
        "        revised_boxes = []\n",
        "        for line in boxes:\n",
        "            for box, _ in line:\n",
        "                revised_boxes.append(box)\n",
        "        boxes = revised_boxes\n",
        "    if boxes_format == 'predictions':\n",
        "        revised_boxes = []\n",
        "        for _, box in boxes:\n",
        "            revised_boxes.append(box)\n",
        "        boxes = revised_boxes\n",
        "    for box in boxes:\n",
        "        cv2.polylines(img=canvas,\n",
        "                      pts=box[np.newaxis].astype('int32'),\n",
        "                      color=color,\n",
        "                      thickness=thickness,\n",
        "                      isClosed=True)\n",
        "    return image#canvas\n",
        "#  drawAnnotations1(image=images[0],fig,imageName,predictions=sample,ax=axs)\n",
        "\n",
        "def drawAnnotations1(image, fig,imageName,predictions,ax=None):\n",
        "    \"\"\"Draw text annotations onto image.\n",
        "\n",
        "    Args:\n",
        "        image: The image on which to draw\n",
        "        predictions: The predictions as provided by `pipeline.recognize`.\n",
        "        ax: A matplotlib axis on which to draw.\n",
        "    \"\"\"\n",
        "    # if ax is None:\n",
        "    #     _, ax = plt.subplots()\n",
        "    #ax.imshow(drawBoxes(image=image, boxes=predictions, boxes_format='predictions'))\n",
        "\n",
        "    ax.imshow(image)\n",
        "\n",
        "    predictions = sorted(predictions, key=lambda p: p[1][:, 1].min())\n",
        "    left = []\n",
        "    right = []\n",
        "\n",
        "    for word, box in predictions:\n",
        "        if box[:, 0].min() < image.shape[1] / 2:\n",
        "            left.append((word, box))\n",
        "        else:\n",
        "            right.append((word, box))\n",
        "    ax.set_yticks([])\n",
        "    ax.set_xticks([])\n",
        "    for side, group in zip(['left', 'right'], [left, right]):\n",
        "        for index, (text, box) in enumerate(group):\n",
        "            y = 1 - (index / len(group))\n",
        "            xy = box[0] / np.array([image.shape[1], image.shape[0]])\n",
        "            xy[1] = 1 - xy[1]\n",
        "            # print(\"\\n\\t box[0][]=\",box[0])\n",
        "            # print(\"\\n\\t box[0][0]=\",box[0][0])\n",
        "            # print(\"\\n\\t box[0][1]=\",box[0][1])\n",
        "            #plt.text(box[0][0], box[0][1], text, bbox=dict(fill=False, edgecolor='red', linewidth=2))\n",
        "\n",
        "            cv2.putText(image,text, (box[0][0], box[0][1]), cv2.FONT_HERSHEY_COMPLEX_SMALL, 0.2,(0,0,255),)\n",
        "            ax.annotate(s=text,\n",
        "                        xy=xy,\n",
        "                        #xytext=(-0.05 if side == 'left' else 1.05, y),\n",
        "                        xytext=xy,#(1 if side == 'left' else 1, y),\n",
        "                        xycoords='axes fraction',\n",
        "                        color='r',\n",
        "                        fontsize=24\n",
        "\n",
        "                        )\n",
        "    cv2.imwrite(\"/content/outPut//\"+imageName,image)\n",
        "    #plt.save(\"/content/outPut//\"+imageName)\n",
        "    #fig.savefig(\"/content/outPut//\"+imageName)  \n",
        "    return ax\n",
        "\n",
        "left = []\n",
        "right = []\n",
        "# fig1 = plt.figure()\n",
        "# fig, axs = plt.subplots(nrows=len(images), figsize=(20, 20))\n",
        "\n",
        "'''\n",
        "  change\n",
        "'''\n",
        "#fig = plt.figure()\n",
        "\n",
        "h,w=images[0].shape[0],images[0].shape[1]\n",
        "\n",
        "print(\"\\n\\t h=\",h,\"\\t w=\",w)\n",
        "fig,axs = plt.subplots(nrows=1, figsize=(100, 80))\n",
        "#ax.plot(x, y, label='$y = numbers')\n",
        "#plt.title('Legend inside')\n",
        "#ax.legend()\n",
        "#plt.show()\n",
        "\n",
        "#fig.savefig('plot.png')\n",
        "'''\n",
        "'''\n",
        "\n",
        "\n",
        "#print(\"\\n\\t predictions=\",predictions)\n",
        "\n",
        "for indx,sample in enumerate(prediction_groups):\n",
        "  # for indx1,sample1 in enumerate(sample):\n",
        "  #   print(\"\\n\\t indx1=\",indx1,\"\\t sample1=\",sample1)  \n",
        "  drawAnnotations1(images[0],fig,imageName,predictions=sample,ax=axs)\n",
        "\n",
        "\n",
        "#drawAnnotations1(image=images, predictions=prediction_groups, ax=axs)\n",
        "'''\n",
        "for ax, image, predictions in zip(axs, images, prediction_groups):\n",
        "    #keras_ocr.tools.drawAnnotations(image=image, predictions=predictions, ax=ax)\n",
        "    drawAnnotations1(image=image, predictions=predictions, ax=ax)\n",
        "''' \n",
        "\n"
      ],
      "execution_count": 16,
      "outputs": [
        {
          "output_type": "stream",
          "text": [
            "Looking for /root/.keras-ocr/craft_mlt_25k.h5\n",
            "Looking for /root/.keras-ocr/crnn_kurapan.h5\n",
            "\n",
            "\t fullPath= ['/content//image/0000971160.png']\n",
            "\n",
            "\t imageName= 0000971160.png\n"
          ],
          "name": "stdout"
        },
        {
          "output_type": "error",
          "ename": "ValueError",
          "evalue": "ignored",
          "traceback": [
            "\u001b[0;31m---------------------------------------------------------------------------\u001b[0m",
            "\u001b[0;31mValueError\u001b[0m                                Traceback (most recent call last)",
            "\u001b[0;32m<ipython-input-16-74ced83e5935>\u001b[0m in \u001b[0;36m<module>\u001b[0;34m()\u001b[0m\n\u001b[1;32m     33\u001b[0m \u001b[0;31m# (word, box) tuples.\u001b[0m\u001b[0;34m\u001b[0m\u001b[0;34m\u001b[0m\u001b[0;34m\u001b[0m\u001b[0m\n\u001b[1;32m     34\u001b[0m \u001b[0;34m\u001b[0m\u001b[0m\n\u001b[0;32m---> 35\u001b[0;31m \u001b[0mprediction_groups\u001b[0m \u001b[0;34m=\u001b[0m \u001b[0mpipeline\u001b[0m\u001b[0;34m.\u001b[0m\u001b[0mrecognize\u001b[0m\u001b[0;34m(\u001b[0m\u001b[0mimages\u001b[0m\u001b[0;34m[\u001b[0m\u001b[0mchooseIndx\u001b[0m\u001b[0;34m]\u001b[0m\u001b[0;34m)\u001b[0m\u001b[0;34m\u001b[0m\u001b[0;34m\u001b[0m\u001b[0m\n\u001b[0m\u001b[1;32m     36\u001b[0m \u001b[0;34m\u001b[0m\u001b[0m\n\u001b[1;32m     37\u001b[0m \u001b[0;31m#print(\"\\n\\t prediction_groups=\",prediction_groups)\u001b[0m\u001b[0;34m\u001b[0m\u001b[0;34m\u001b[0m\u001b[0;34m\u001b[0m\u001b[0m\n",
            "\u001b[0;32m/usr/local/lib/python3.6/dist-packages/keras_ocr/pipeline.py\u001b[0m in \u001b[0;36mrecognize\u001b[0;34m(self, images, detection_kwargs, recognition_kwargs)\u001b[0m\n\u001b[1;32m     53\u001b[0m         \u001b[0;32mif\u001b[0m \u001b[0mrecognition_kwargs\u001b[0m \u001b[0;32mis\u001b[0m \u001b[0;32mNone\u001b[0m\u001b[0;34m:\u001b[0m\u001b[0;34m\u001b[0m\u001b[0;34m\u001b[0m\u001b[0m\n\u001b[1;32m     54\u001b[0m             \u001b[0mrecognition_kwargs\u001b[0m \u001b[0;34m=\u001b[0m \u001b[0;34m{\u001b[0m\u001b[0;34m}\u001b[0m\u001b[0;34m\u001b[0m\u001b[0;34m\u001b[0m\u001b[0m\n\u001b[0;32m---> 55\u001b[0;31m         \u001b[0mbox_groups\u001b[0m \u001b[0;34m=\u001b[0m \u001b[0mself\u001b[0m\u001b[0;34m.\u001b[0m\u001b[0mdetector\u001b[0m\u001b[0;34m.\u001b[0m\u001b[0mdetect\u001b[0m\u001b[0;34m(\u001b[0m\u001b[0mimages\u001b[0m\u001b[0;34m=\u001b[0m\u001b[0mimages\u001b[0m\u001b[0;34m,\u001b[0m \u001b[0;34m**\u001b[0m\u001b[0mdetection_kwargs\u001b[0m\u001b[0;34m)\u001b[0m\u001b[0;34m\u001b[0m\u001b[0;34m\u001b[0m\u001b[0m\n\u001b[0m\u001b[1;32m     56\u001b[0m         prediction_groups = self.recognizer.recognize_from_boxes(images=images,\n\u001b[1;32m     57\u001b[0m                                                                  \u001b[0mbox_groups\u001b[0m\u001b[0;34m=\u001b[0m\u001b[0mbox_groups\u001b[0m\u001b[0;34m,\u001b[0m\u001b[0;34m\u001b[0m\u001b[0;34m\u001b[0m\u001b[0m\n",
            "\u001b[0;32m/usr/local/lib/python3.6/dist-packages/keras_ocr/detection.py\u001b[0m in \u001b[0;36mdetect\u001b[0;34m(self, images, detection_threshold, text_threshold, link_threshold, size_threshold, **kwargs)\u001b[0m\n\u001b[1;32m    675\u001b[0m             \u001b[0msize_threshold\u001b[0m\u001b[0;34m:\u001b[0m \u001b[0mThe\u001b[0m \u001b[0mminimum\u001b[0m \u001b[0marea\u001b[0m \u001b[0;32mfor\u001b[0m \u001b[0ma\u001b[0m \u001b[0mword\u001b[0m\u001b[0;34m.\u001b[0m\u001b[0;34m\u001b[0m\u001b[0;34m\u001b[0m\u001b[0m\n\u001b[1;32m    676\u001b[0m         \"\"\"\n\u001b[0;32m--> 677\u001b[0;31m         \u001b[0mimages\u001b[0m \u001b[0;34m=\u001b[0m \u001b[0;34m[\u001b[0m\u001b[0mcompute_input\u001b[0m\u001b[0;34m(\u001b[0m\u001b[0mtools\u001b[0m\u001b[0;34m.\u001b[0m\u001b[0mread\u001b[0m\u001b[0;34m(\u001b[0m\u001b[0mimage\u001b[0m\u001b[0;34m)\u001b[0m\u001b[0;34m)\u001b[0m \u001b[0;32mfor\u001b[0m \u001b[0mimage\u001b[0m \u001b[0;32min\u001b[0m \u001b[0mimages\u001b[0m\u001b[0;34m]\u001b[0m\u001b[0;34m\u001b[0m\u001b[0;34m\u001b[0m\u001b[0m\n\u001b[0m\u001b[1;32m    678\u001b[0m         \u001b[0mboxes\u001b[0m \u001b[0;34m=\u001b[0m \u001b[0;34m[\u001b[0m\u001b[0;34m]\u001b[0m\u001b[0;34m\u001b[0m\u001b[0;34m\u001b[0m\u001b[0m\n\u001b[1;32m    679\u001b[0m         \u001b[0;32mfor\u001b[0m \u001b[0mimage\u001b[0m \u001b[0;32min\u001b[0m \u001b[0mimages\u001b[0m\u001b[0;34m:\u001b[0m\u001b[0;34m\u001b[0m\u001b[0;34m\u001b[0m\u001b[0m\n",
            "\u001b[0;32m/usr/local/lib/python3.6/dist-packages/keras_ocr/detection.py\u001b[0m in \u001b[0;36m<listcomp>\u001b[0;34m(.0)\u001b[0m\n\u001b[1;32m    675\u001b[0m             \u001b[0msize_threshold\u001b[0m\u001b[0;34m:\u001b[0m \u001b[0mThe\u001b[0m \u001b[0mminimum\u001b[0m \u001b[0marea\u001b[0m \u001b[0;32mfor\u001b[0m \u001b[0ma\u001b[0m \u001b[0mword\u001b[0m\u001b[0;34m.\u001b[0m\u001b[0;34m\u001b[0m\u001b[0;34m\u001b[0m\u001b[0m\n\u001b[1;32m    676\u001b[0m         \"\"\"\n\u001b[0;32m--> 677\u001b[0;31m         \u001b[0mimages\u001b[0m \u001b[0;34m=\u001b[0m \u001b[0;34m[\u001b[0m\u001b[0mcompute_input\u001b[0m\u001b[0;34m(\u001b[0m\u001b[0mtools\u001b[0m\u001b[0;34m.\u001b[0m\u001b[0mread\u001b[0m\u001b[0;34m(\u001b[0m\u001b[0mimage\u001b[0m\u001b[0;34m)\u001b[0m\u001b[0;34m)\u001b[0m \u001b[0;32mfor\u001b[0m \u001b[0mimage\u001b[0m \u001b[0;32min\u001b[0m \u001b[0mimages\u001b[0m\u001b[0;34m]\u001b[0m\u001b[0;34m\u001b[0m\u001b[0;34m\u001b[0m\u001b[0m\n\u001b[0m\u001b[1;32m    678\u001b[0m         \u001b[0mboxes\u001b[0m \u001b[0;34m=\u001b[0m \u001b[0;34m[\u001b[0m\u001b[0;34m]\u001b[0m\u001b[0;34m\u001b[0m\u001b[0;34m\u001b[0m\u001b[0m\n\u001b[1;32m    679\u001b[0m         \u001b[0;32mfor\u001b[0m \u001b[0mimage\u001b[0m \u001b[0;32min\u001b[0m \u001b[0mimages\u001b[0m\u001b[0;34m:\u001b[0m\u001b[0;34m\u001b[0m\u001b[0;34m\u001b[0m\u001b[0m\n",
            "\u001b[0;32m/usr/local/lib/python3.6/dist-packages/keras_ocr/detection.py\u001b[0m in \u001b[0;36mcompute_input\u001b[0;34m(image)\u001b[0m\n\u001b[1;32m     38\u001b[0m     \u001b[0mvariance\u001b[0m \u001b[0;34m=\u001b[0m \u001b[0mnp\u001b[0m\u001b[0;34m.\u001b[0m\u001b[0marray\u001b[0m\u001b[0;34m(\u001b[0m\u001b[0;34m[\u001b[0m\u001b[0;36m0.229\u001b[0m\u001b[0;34m,\u001b[0m \u001b[0;36m0.224\u001b[0m\u001b[0;34m,\u001b[0m \u001b[0;36m0.225\u001b[0m\u001b[0;34m]\u001b[0m\u001b[0;34m)\u001b[0m\u001b[0;34m\u001b[0m\u001b[0;34m\u001b[0m\u001b[0m\n\u001b[1;32m     39\u001b[0m \u001b[0;34m\u001b[0m\u001b[0m\n\u001b[0;32m---> 40\u001b[0;31m     \u001b[0mimage\u001b[0m \u001b[0;34m-=\u001b[0m \u001b[0mmean\u001b[0m \u001b[0;34m*\u001b[0m \u001b[0;36m255\u001b[0m\u001b[0;34m\u001b[0m\u001b[0;34m\u001b[0m\u001b[0m\n\u001b[0m\u001b[1;32m     41\u001b[0m     \u001b[0mimage\u001b[0m \u001b[0;34m/=\u001b[0m \u001b[0mvariance\u001b[0m \u001b[0;34m*\u001b[0m \u001b[0;36m255\u001b[0m\u001b[0;34m\u001b[0m\u001b[0;34m\u001b[0m\u001b[0m\n\u001b[1;32m     42\u001b[0m     \u001b[0;32mreturn\u001b[0m \u001b[0mimage\u001b[0m\u001b[0;34m\u001b[0m\u001b[0;34m\u001b[0m\u001b[0m\n",
            "\u001b[0;31mValueError\u001b[0m: operands could not be broadcast together with shapes (1524,6) (3,) (1524,6) "
          ]
        }
      ]
    },
    {
      "cell_type": "code",
      "metadata": {
        "id": "5OvB0LAPle31",
        "colab_type": "code",
        "colab": {}
      },
      "source": [
        ""
      ],
      "execution_count": 0,
      "outputs": []
    }
  ]
}